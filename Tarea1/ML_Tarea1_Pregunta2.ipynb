{
 "cells": [
  {
   "cell_type": "code",
   "execution_count": 60,
   "metadata": {},
   "outputs": [],
   "source": [
    "import pandas as pd\n",
    "import numpy as np\n",
    "import matplotlib.pyplot as plt\n",
    "from scipy import stats\n",
    "from pylab import*\n",
    "import scipy.stats\n",
    "#from scipy.special import gamma\n",
    "import seaborn as sns\n",
    "from scipy.stats import beta\n",
    "from scipy.stats import spearmanr"
   ]
  },
  {
   "cell_type": "markdown",
   "metadata": {},
   "source": [
    "<span style=\"color:blue\"> Pregunta 2 </span>\n",
    "\n",
    "1-Obtener el error estandar de la correlacion y mostrar para que N es mejor la precisión con respecto a la correlación de la muestra total.\n",
    "\n",
    "2- Grafique los histogramas de las correlaciones.\n",
    "\n",
    "3- Grafique el  histograma pero sobre una muestra bostrap considerando la muestra completa.\n",
    "\n",
    "4- Tambien realizarlo con n-1(14)."
   ]
  },
  {
   "cell_type": "code",
   "execution_count": 221,
   "metadata": {},
   "outputs": [],
   "source": [
    "#Cargamos la basse de las escuelas\n",
    "\n",
    "ruta= \"/Users/ignam/Documents/Semestre7/MachineLearning/MachineLearningEquipo/Tarea1/base_tarea1/\"\n",
    "escuelas= 'data_schools.csv'\n",
    "\n",
    "bd_escuelas= pd.read_csv(ruta+escuelas)"
   ]
  },
  {
   "cell_type": "code",
   "execution_count": 220,
   "metadata": {},
   "outputs": [],
   "source": [
    "#Seleccionamos aleatoriamente 15 escuelas\n",
    "escuelas_random=bd_escuelas.sample(n=15, random_state=9998) [[\"escuela\"]]\n",
    "escuelas_random [\"indicador\"]=1"
   ]
  },
  {
   "cell_type": "code",
   "execution_count": 148,
   "metadata": {},
   "outputs": [
    {
     "name": "stdout",
     "output_type": "stream",
     "text": [
      "Spearmans correlation: 0.753\n"
     ]
    }
   ],
   "source": [
    "#Correlacion de los 82 datos\n",
    "corr_datos_total = spearmanr(bd_escuelas.LSAT, bd_escuelas.GPA)[0]\n",
    "print('Spearmans correlation: %.3f' % corr)"
   ]
  },
  {
   "cell_type": "markdown",
   "metadata": {},
   "source": [
    "***************************************************************************************************************************\n",
    "***************************************************************************************************************************\n",
    "\n",
    "# <span style=\"color:blue\"> Muestras tamaño 15 </span>\n",
    "\n",
    "Describiremos el proceso para resolver el ejercicio:\n",
    "\n",
    "1- Construimos una funcion que nos permitiera poner como parametro el numero de simulaciones(N) que quiere el usuario, con muestras de tamaño 15, y nos devuelve un DataFrame con las correlaciones por cada simulación.\n",
    "\n",
    "2- Después construimos el **histograma de las correlaciones**, obtenidas con el DataFrame que nos regresa la funcion anterior.\n",
    "\n",
    "3- Para **determinar la mejor N** hicimos simulaciones con diferentes N, en este caso tomamos un intervalo de (1,200), filtramos por los más parecidos con la correlación de la muestra completa(esta idea se explica más a fondo en su seccion correspondiente).\n",
    "\n",
    "4- Después creamos una función para encontrar los errrores estandar, tomando como parámetro la N(número de simulaciones), y nos devuleve el error estandar.  "
   ]
  },
  {
   "cell_type": "code",
   "execution_count": 222,
   "metadata": {},
   "outputs": [
    {
     "data": {
      "image/png": "[encoded data removed]",
      "text/plain": [
       "<Figure size 432x288 with 1 Axes>"
      ]
     },
     "metadata": {
      "needs_background": "light"
     },
     "output_type": "display_data"
    }
   ],
   "source": [
    "#Crearemos una funcion que tenga como parametro el numero de simulaciones(N), con 15 elementos\n",
    "#Y nos devuleva los coeficientes de correlacion de cada simulacion\n",
    "\n",
    "def correlacion_15(n):\n",
    "    \n",
    "    random_walk = []\n",
    "    for i in range(1,n):\n",
    "        \n",
    "        erandom=bd_escuelas.sample(n=15, replace=True) [[\"escuela\"]]\n",
    "    \n",
    "        escuelas_comple = pd.merge(bd_escuelas,erandom, on=['escuela'],how='inner')\n",
    "    \n",
    "        corr_erandom = spearmanr(escuelas_comple.LSAT, escuelas_comple.GPA)[0]\n",
    "    \n",
    "        random_walk.append(corr_erandom)\n",
    "        \n",
    "    random_walk = pd.DataFrame(random_walk,columns=['Correlaciones'])\n",
    "        \n",
    "    return(random_walk)\n",
    "\n",
    "\n",
    "plt.hist(correlacion_15(3200),bins=32)\n",
    "plt.title('Histograma de Correlaciones con muestras de 15 elementos(N=3200)')\n",
    "plt.show()"
   ]
  },
  {
   "cell_type": "code",
   "execution_count": 203,
   "metadata": {},
   "outputs": [],
   "source": [
    "medias_15=pd.DataFrame(columns=['N','media'])\n",
    "for i in range(1,200):\n",
    "    m=(correlacion_15(i).Correlaciones).mean()\n",
    "    medias_15=medias_15.append(pd.DataFrame([[i,m]],columns=['N','media']),ignore_index = True)"
   ]
  },
  {
   "cell_type": "code",
   "execution_count": 204,
   "metadata": {},
   "outputs": [
    {
     "data": {
      "text/html": [
       "<div>\n",
       "<style scoped>\n",
       "    .dataframe tbody tr th:only-of-type {\n",
       "        vertical-align: middle;\n",
       "    }\n",
       "\n",
       "    .dataframe tbody tr th {\n",
       "        vertical-align: top;\n",
       "    }\n",
       "\n",
       "    .dataframe thead th {\n",
       "        text-align: right;\n",
       "    }\n",
       "</style>\n",
       "<table border=\"1\" class=\"dataframe\">\n",
       "  <thead>\n",
       "    <tr style=\"text-align: right;\">\n",
       "      <th></th>\n",
       "      <th>N</th>\n",
       "      <th>media</th>\n",
       "    </tr>\n",
       "  </thead>\n",
       "  <tbody>\n",
       "    <tr>\n",
       "      <th>0</th>\n",
       "      <td>1</td>\n",
       "      <td>NaN</td>\n",
       "    </tr>\n",
       "    <tr>\n",
       "      <th>1</th>\n",
       "      <td>2</td>\n",
       "      <td>0.763663</td>\n",
       "    </tr>\n",
       "    <tr>\n",
       "      <th>2</th>\n",
       "      <td>3</td>\n",
       "      <td>0.788237</td>\n",
       "    </tr>\n",
       "    <tr>\n",
       "      <th>3</th>\n",
       "      <td>4</td>\n",
       "      <td>0.633968</td>\n",
       "    </tr>\n",
       "    <tr>\n",
       "      <th>4</th>\n",
       "      <td>5</td>\n",
       "      <td>0.784508</td>\n",
       "    </tr>\n",
       "  </tbody>\n",
       "</table>\n",
       "</div>"
      ],
      "text/plain": [
       "   N     media\n",
       "0  1       NaN\n",
       "1  2  0.763663\n",
       "2  3  0.788237\n",
       "3  4  0.633968\n",
       "4  5  0.784508"
      ]
     },
     "execution_count": 204,
     "metadata": {},
     "output_type": "execute_result"
    }
   ],
   "source": [
    "medias_15.head()"
   ]
  },
  {
   "cell_type": "code",
   "execution_count": 218,
   "metadata": {},
   "outputs": [
    {
     "name": "stdout",
     "output_type": "stream",
     "text": [
      "<class 'pandas.core.frame.DataFrame'>\n",
      "Int64Index: 15 entries, 1 to 117\n",
      "Data columns (total 2 columns):\n",
      " #   Column  Non-Null Count  Dtype  \n",
      "---  ------  --------------  -----  \n",
      " 0   N       15 non-null     object \n",
      " 1   media   15 non-null     float64\n",
      "dtypes: float64(1), object(1)\n",
      "memory usage: 360.0+ bytes\n"
     ]
    }
   ],
   "source": [
    "medias_15_m=medias_15[medias_15['media']>0.75]\n",
    "medias_15_m.info()"
   ]
  },
  {
   "cell_type": "code",
   "execution_count": 219,
   "metadata": {
    "scrolled": true
   },
   "outputs": [
    {
     "data": {
      "text/html": [
       "<div>\n",
       "<style scoped>\n",
       "    .dataframe tbody tr th:only-of-type {\n",
       "        vertical-align: middle;\n",
       "    }\n",
       "\n",
       "    .dataframe tbody tr th {\n",
       "        vertical-align: top;\n",
       "    }\n",
       "\n",
       "    .dataframe thead th {\n",
       "        text-align: right;\n",
       "    }\n",
       "</style>\n",
       "<table border=\"1\" class=\"dataframe\">\n",
       "  <thead>\n",
       "    <tr style=\"text-align: right;\">\n",
       "      <th></th>\n",
       "      <th>N</th>\n",
       "      <th>media</th>\n",
       "    </tr>\n",
       "  </thead>\n",
       "  <tbody>\n",
       "    <tr>\n",
       "      <th>10</th>\n",
       "      <td>11</td>\n",
       "      <td>0.754949</td>\n",
       "    </tr>\n",
       "    <tr>\n",
       "      <th>33</th>\n",
       "      <td>34</td>\n",
       "      <td>0.752767</td>\n",
       "    </tr>\n",
       "    <tr>\n",
       "      <th>54</th>\n",
       "      <td>55</td>\n",
       "      <td>0.751073</td>\n",
       "    </tr>\n",
       "    <tr>\n",
       "      <th>59</th>\n",
       "      <td>60</td>\n",
       "      <td>0.755331</td>\n",
       "    </tr>\n",
       "    <tr>\n",
       "      <th>74</th>\n",
       "      <td>75</td>\n",
       "      <td>0.751124</td>\n",
       "    </tr>\n",
       "    <tr>\n",
       "      <th>84</th>\n",
       "      <td>85</td>\n",
       "      <td>0.751581</td>\n",
       "    </tr>\n",
       "    <tr>\n",
       "      <th>117</th>\n",
       "      <td>118</td>\n",
       "      <td>0.750135</td>\n",
       "    </tr>\n",
       "  </tbody>\n",
       "</table>\n",
       "</div>"
      ],
      "text/plain": [
       "       N     media\n",
       "10    11  0.754949\n",
       "33    34  0.752767\n",
       "54    55  0.751073\n",
       "59    60  0.755331\n",
       "74    75  0.751124\n",
       "84    85  0.751581\n",
       "117  118  0.750135"
      ]
     },
     "execution_count": 219,
     "metadata": {},
     "output_type": "execute_result"
    }
   ],
   "source": [
    "medias_15_m=medias_15_m[medias_15_m['media']<0.76]\n",
    "medias_15_m"
   ]
  },
  {
   "cell_type": "markdown",
   "metadata": {},
   "source": [
    "----------------------------------------------------------------------------------------------------------------------------\n",
    "¿Cual N nos mejora la precisión?\n",
    "\n",
    "Tomamos la media de los coeficientes de correlacion para N en (1,200), y estos los metimos dentro de un dataframe.\n",
    "\n",
    "A su vez lo filtramos tomando en cuenta el coeficiente de correlacion de la muestra total (0.753), este filtro consistio en tomar las media que fueran mayores a 0.75 y menores a 0.76, obteniendo los mas cercanos al coeficiente de correlacion original.\n",
    "\n",
    "Y nos damos cuenta que para la muestra que realizamos el que mas se acerca es una N= 60, sin embargo esta puede cambiar dependiendo el muestreo que se tome, pues en nuestro ejercicio tomamos 15 elementos aleatorios de los 82 datos.\n",
    "\n",
    "-----------------------------------------------------------------------------------------------------------------------------"
   ]
  },
  {
   "cell_type": "code",
   "execution_count": 155,
   "metadata": {},
   "outputs": [],
   "source": [
    "#La siguiente funcion nos entrega el error estandar de muestrear i(N) veces, con 15 elementos de la tabla.\n",
    "\n",
    "def errores_est(i):\n",
    "    errores_estandar=pd.DataFrame(columns=['N','error'])\n",
    "    \n",
    "    #Ejecutamos la funcion que antes creamos\n",
    "    df_aux=correlacion_15(i)\n",
    "    \n",
    "    #Obtenemos el error estandar para cada simulacion de N\n",
    "    x_n=df_aux[[\"Correlaciones\"]].to_numpy().reshape(-1)\n",
    "    media= df_aux.Correlaciones.mean()\n",
    "        \n",
    "    den=sum((x_n - media)**2)\n",
    "    #num=sum((x_n**2)/(i))\n",
    "    err=np.sqrt(den/(i-1))\n",
    "    errores_estandar=errores_estandar.append(pd.DataFrame([[i,err]],columns=['N','error']),ignore_index = True)\n",
    "    \n",
    "    return(errores_estandar)    "
   ]
  },
  {
   "cell_type": "code",
   "execution_count": 144,
   "metadata": {},
   "outputs": [],
   "source": [
    "#Esto es algo extra\n",
    "\n",
    "tabla_errores= pd.DataFrame(columns=['N','error'])\n",
    "for i in range(2000,3300,100):\n",
    "    tabla_errores=tabla_errores.append(errores_est(i),ignore_index = True)"
   ]
  },
  {
   "cell_type": "code",
   "execution_count": 145,
   "metadata": {},
   "outputs": [
    {
     "data": {
      "text/html": [
       "<div>\n",
       "<style scoped>\n",
       "    .dataframe tbody tr th:only-of-type {\n",
       "        vertical-align: middle;\n",
       "    }\n",
       "\n",
       "    .dataframe tbody tr th {\n",
       "        vertical-align: top;\n",
       "    }\n",
       "\n",
       "    .dataframe thead th {\n",
       "        text-align: right;\n",
       "    }\n",
       "</style>\n",
       "<table border=\"1\" class=\"dataframe\">\n",
       "  <thead>\n",
       "    <tr style=\"text-align: right;\">\n",
       "      <th></th>\n",
       "      <th>N</th>\n",
       "      <th>error</th>\n",
       "    </tr>\n",
       "  </thead>\n",
       "  <tbody>\n",
       "    <tr>\n",
       "      <th>0</th>\n",
       "      <td>2000</td>\n",
       "      <td>0.148847</td>\n",
       "    </tr>\n",
       "    <tr>\n",
       "      <th>1</th>\n",
       "      <td>2100</td>\n",
       "      <td>0.144323</td>\n",
       "    </tr>\n",
       "    <tr>\n",
       "      <th>2</th>\n",
       "      <td>2200</td>\n",
       "      <td>0.137002</td>\n",
       "    </tr>\n",
       "    <tr>\n",
       "      <th>3</th>\n",
       "      <td>2300</td>\n",
       "      <td>0.144996</td>\n",
       "    </tr>\n",
       "    <tr>\n",
       "      <th>4</th>\n",
       "      <td>2400</td>\n",
       "      <td>0.142486</td>\n",
       "    </tr>\n",
       "  </tbody>\n",
       "</table>\n",
       "</div>"
      ],
      "text/plain": [
       "      N     error\n",
       "0  2000  0.148847\n",
       "1  2100  0.144323\n",
       "2  2200  0.137002\n",
       "3  2300  0.144996\n",
       "4  2400  0.142486"
      ]
     },
     "execution_count": 145,
     "metadata": {},
     "output_type": "execute_result"
    }
   ],
   "source": [
    "tabla_errores.head()"
   ]
  },
  {
   "cell_type": "markdown",
   "metadata": {},
   "source": [
    "***************************************************************************************************************************\n",
    "***************************************************************************************************************************\n",
    "# <span style=\"color:blue\"> Muestras tamaño 82 (completa) </span>\n",
    "\n",
    "Para esta parte de la pregunta relaizamos de manera similar lo del inciso anterior, solo con la diferencia que no encontramos la N que mejorará el proceso y las muestras fueron con la muestra completa, es decir, con muestras de tamaño 82."
   ]
  },
  {
   "cell_type": "code",
   "execution_count": 150,
   "metadata": {},
   "outputs": [],
   "source": [
    "def correlacion_82(n):\n",
    "    \n",
    "    random_walk = []\n",
    "    for i in range(1,n):\n",
    "        \n",
    "        erandom=bd_escuelas.sample(n=82, replace=True) [[\"escuela\"]]\n",
    "    \n",
    "        escuelas_comple = pd.merge(bd_escuelas,erandom, on=['escuela'],how='inner')\n",
    "    \n",
    "        corr_erandom = spearmanr(escuelas_comple.LSAT, escuelas_comple.GPA)[0]\n",
    "    \n",
    "        random_walk.append(corr_erandom)\n",
    "        \n",
    "    random_walk = pd.DataFrame(random_walk,columns=['Correlaciones'])\n",
    "        \n",
    "    return(random_walk)"
   ]
  },
  {
   "cell_type": "code",
   "execution_count": 151,
   "metadata": {},
   "outputs": [
    {
     "data": {
      "text/plain": [
       "0.8227987243463981"
      ]
     },
     "execution_count": 151,
     "metadata": {},
     "output_type": "execute_result"
    }
   ],
   "source": [
    "correlacion_82(200).Correlaciones[1]"
   ]
  },
  {
   "cell_type": "code",
   "execution_count": 152,
   "metadata": {},
   "outputs": [
    {
     "data": {
      "image/png": "[encoded data removed]",
      "text/plain": [
       "<Figure size 432x288 with 1 Axes>"
      ]
     },
     "metadata": {
      "needs_background": "light"
     },
     "output_type": "display_data"
    }
   ],
   "source": [
    "plt.hist(correlacion_82(3200),bins=32)\n",
    "plt.title('Histograma de Correlaciones con muestras de 82 elementos(N=3200)')\n",
    "plt.show()"
   ]
  },
  {
   "cell_type": "code",
   "execution_count": 156,
   "metadata": {},
   "outputs": [],
   "source": [
    "#La siguiente funcion nos entrega el error estandar de muestrear i(N) veces, con 82 elementos de la tabla.\n",
    "\n",
    "def errores_est_82(i):\n",
    "    errores_estandar=pd.DataFrame(columns=['N','error'])\n",
    "    \n",
    "    #Ejecutamos la funcion que antes creamos\n",
    "    df_aux=correlacion_82(i)\n",
    "    \n",
    "    #Obtenemos el error estandar para cada simulacion de N\n",
    "    x_n=df_aux[[\"Correlaciones\"]].to_numpy().reshape(-1)\n",
    "    media= df_aux.Correlaciones.mean()\n",
    "        \n",
    "    den=sum((x_n - media)**2)\n",
    "    #num=sum((x_n**2)/(i))\n",
    "    err=np.sqrt(den/(i-1))\n",
    "    errores_estandar=errores_estandar.append(pd.DataFrame([[i,err]],columns=['N','error']),ignore_index = True)\n",
    "    \n",
    "    return(errores_estandar)    "
   ]
  },
  {
   "cell_type": "code",
   "execution_count": 157,
   "metadata": {},
   "outputs": [],
   "source": [
    "tabla_errores82= pd.DataFrame(columns=['N','error'])\n",
    "for i in range(2000,3300,100):\n",
    "    tabla_errores82=tabla_errores82.append(errores_est(i),ignore_index = True)"
   ]
  },
  {
   "cell_type": "code",
   "execution_count": 158,
   "metadata": {},
   "outputs": [
    {
     "data": {
      "text/html": [
       "<div>\n",
       "<style scoped>\n",
       "    .dataframe tbody tr th:only-of-type {\n",
       "        vertical-align: middle;\n",
       "    }\n",
       "\n",
       "    .dataframe tbody tr th {\n",
       "        vertical-align: top;\n",
       "    }\n",
       "\n",
       "    .dataframe thead th {\n",
       "        text-align: right;\n",
       "    }\n",
       "</style>\n",
       "<table border=\"1\" class=\"dataframe\">\n",
       "  <thead>\n",
       "    <tr style=\"text-align: right;\">\n",
       "      <th></th>\n",
       "      <th>N</th>\n",
       "      <th>error</th>\n",
       "    </tr>\n",
       "  </thead>\n",
       "  <tbody>\n",
       "    <tr>\n",
       "      <th>0</th>\n",
       "      <td>2000</td>\n",
       "      <td>0.150319</td>\n",
       "    </tr>\n",
       "    <tr>\n",
       "      <th>1</th>\n",
       "      <td>2100</td>\n",
       "      <td>0.142599</td>\n",
       "    </tr>\n",
       "    <tr>\n",
       "      <th>2</th>\n",
       "      <td>2200</td>\n",
       "      <td>0.151265</td>\n",
       "    </tr>\n",
       "    <tr>\n",
       "      <th>3</th>\n",
       "      <td>2300</td>\n",
       "      <td>0.145051</td>\n",
       "    </tr>\n",
       "    <tr>\n",
       "      <th>4</th>\n",
       "      <td>2400</td>\n",
       "      <td>0.146615</td>\n",
       "    </tr>\n",
       "  </tbody>\n",
       "</table>\n",
       "</div>"
      ],
      "text/plain": [
       "      N     error\n",
       "0  2000  0.150319\n",
       "1  2100  0.142599\n",
       "2  2200  0.151265\n",
       "3  2300  0.145051\n",
       "4  2400  0.146615"
      ]
     },
     "execution_count": 158,
     "metadata": {},
     "output_type": "execute_result"
    }
   ],
   "source": [
    "tabla_errores82.head()"
   ]
  },
  {
   "cell_type": "markdown",
   "metadata": {},
   "source": [
    "***************************************************************************************************************************\n",
    "***************************************************************************************************************************\n",
    "\n",
    "# <span style=\"color:blue\"> Muestras tamaño 14 (n-1) </span>\n",
    "\n",
    "Para esta parte de la pregunta relaizamos de manera similar lo del inciso anterior, solo con la diferencia que no encontramos la N que mejorará el proceso y las muestras fueron de tamaño 14."
   ]
  },
  {
   "cell_type": "code",
   "execution_count": 167,
   "metadata": {},
   "outputs": [],
   "source": [
    "def correlacion_14(n):\n",
    "    \n",
    "    random_walk = []\n",
    "    for i in range(1,n):\n",
    "        \n",
    "        erandom=bd_escuelas.sample(n=14, replace=True) [[\"escuela\"]]\n",
    "    \n",
    "        escuelas_comple = pd.merge(bd_escuelas,erandom, on=['escuela'],how='inner')\n",
    "    \n",
    "        corr_erandom = spearmanr(escuelas_comple.LSAT, escuelas_comple.GPA)[0]\n",
    "    \n",
    "        random_walk.append(corr_erandom)\n",
    "        \n",
    "    random_walk = pd.DataFrame(random_walk,columns=['Correlaciones'])\n",
    "        \n",
    "    return(random_walk)"
   ]
  },
  {
   "cell_type": "code",
   "execution_count": 168,
   "metadata": {},
   "outputs": [
    {
     "data": {
      "text/plain": [
       "0.7202660644174593"
      ]
     },
     "execution_count": 168,
     "metadata": {},
     "output_type": "execute_result"
    }
   ],
   "source": [
    "correlacion_14(200).Correlaciones[1]"
   ]
  },
  {
   "cell_type": "code",
   "execution_count": 169,
   "metadata": {},
   "outputs": [
    {
     "data": {
      "image/png": "[encoded data removed]",
      "text/plain": [
       "<Figure size 432x288 with 1 Axes>"
      ]
     },
     "metadata": {
      "needs_background": "light"
     },
     "output_type": "display_data"
    }
   ],
   "source": [
    "plt.hist(correlacion_14(3200),bins=32)\n",
    "plt.title('Histograma de Correlaciones con muestras de 14 elementos(N=3200)')\n",
    "plt.show()"
   ]
  },
  {
   "cell_type": "code",
   "execution_count": 170,
   "metadata": {},
   "outputs": [],
   "source": [
    "#La siguiente funcion nos entrega el error estandar de muestrear i(N) veces, con 81 elementos de la tabla.\n",
    "\n",
    "def errores_est_14(i):\n",
    "    errores_estandar=pd.DataFrame(columns=['N','error'])\n",
    "    \n",
    "    #Ejecutamos la funcion que antes creamos\n",
    "    df_aux=correlacion_14(i)\n",
    "    \n",
    "    #Obtenemos el error estandar para cada simulacion de N\n",
    "    x_n=df_aux[[\"Correlaciones\"]].to_numpy().reshape(-1)\n",
    "    media= df_aux.Correlaciones.mean()\n",
    "        \n",
    "    den=sum((x_n - media)**2)\n",
    "    #num=sum((x_n**2)/(i))\n",
    "    err=np.sqrt(den/(i-1))\n",
    "    errores_estandar=errores_estandar.append(pd.DataFrame([[i,err]],columns=['N','error']),ignore_index = True)\n",
    "    \n",
    "    return(errores_estandar)    "
   ]
  },
  {
   "cell_type": "code",
   "execution_count": 172,
   "metadata": {},
   "outputs": [],
   "source": [
    "tabla_errores14= pd.DataFrame(columns=['N','error'])\n",
    "for i in range(10,300,10):\n",
    "    tabla_errores14=tabla_errores14.append(errores_est(i),ignore_index = True)"
   ]
  },
  {
   "cell_type": "code",
   "execution_count": 173,
   "metadata": {},
   "outputs": [
    {
     "data": {
      "text/html": [
       "<div>\n",
       "<style scoped>\n",
       "    .dataframe tbody tr th:only-of-type {\n",
       "        vertical-align: middle;\n",
       "    }\n",
       "\n",
       "    .dataframe tbody tr th {\n",
       "        vertical-align: top;\n",
       "    }\n",
       "\n",
       "    .dataframe thead th {\n",
       "        text-align: right;\n",
       "    }\n",
       "</style>\n",
       "<table border=\"1\" class=\"dataframe\">\n",
       "  <thead>\n",
       "    <tr style=\"text-align: right;\">\n",
       "      <th></th>\n",
       "      <th>N</th>\n",
       "      <th>error</th>\n",
       "    </tr>\n",
       "  </thead>\n",
       "  <tbody>\n",
       "    <tr>\n",
       "      <th>0</th>\n",
       "      <td>10</td>\n",
       "      <td>0.144278</td>\n",
       "    </tr>\n",
       "    <tr>\n",
       "      <th>1</th>\n",
       "      <td>20</td>\n",
       "      <td>0.120405</td>\n",
       "    </tr>\n",
       "    <tr>\n",
       "      <th>2</th>\n",
       "      <td>30</td>\n",
       "      <td>0.138667</td>\n",
       "    </tr>\n",
       "    <tr>\n",
       "      <th>3</th>\n",
       "      <td>40</td>\n",
       "      <td>0.166654</td>\n",
       "    </tr>\n",
       "    <tr>\n",
       "      <th>4</th>\n",
       "      <td>50</td>\n",
       "      <td>0.124150</td>\n",
       "    </tr>\n",
       "  </tbody>\n",
       "</table>\n",
       "</div>"
      ],
      "text/plain": [
       "    N     error\n",
       "0  10  0.144278\n",
       "1  20  0.120405\n",
       "2  30  0.138667\n",
       "3  40  0.166654\n",
       "4  50  0.124150"
      ]
     },
     "execution_count": 173,
     "metadata": {},
     "output_type": "execute_result"
    }
   ],
   "source": [
    "tabla_errores14.head()"
   ]
  }
 ],
 "metadata": {
  "kernelspec": {
   "display_name": "Python 3",
   "language": "python",
   "name": "python3"
  },
  "language_info": {
   "codemirror_mode": {
    "name": "ipython",
    "version": 3
   },
   "file_extension": ".py",
   "mimetype": "text/x-python",
   "name": "python",
   "nbconvert_exporter": "python",
   "pygments_lexer": "ipython3",
   "version": "3.8.5"
  }
 },
 "nbformat": 4,
 "nbformat_minor": 4
}
